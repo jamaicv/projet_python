{
 "cells": [
  {
   "cell_type": "code",
   "execution_count": 14,
   "metadata": {},
   "outputs": [],
   "source": [
    "import numpy as np\n",
    "import pandas as pd\n",
    "\n",
    "data = pd.read_csv('incident_event_log.csv')"
   ]
  },
  {
   "cell_type": "code",
   "execution_count": null,
   "metadata": {},
   "outputs": [],
   "source": [
    "data.head()\n",
    "# Le dataset contient 36 colonnes et 141 712 lignes"
   ]
  },
  {
   "cell_type": "code",
   "execution_count": null,
   "metadata": {},
   "outputs": [],
   "source": [
    "data.contact_type.value_counts()\n",
    "# Chaque entrée correspond à la mise à jour du statut d'un ticket"
   ]
  },
  {
   "cell_type": "code",
   "execution_count": null,
   "metadata": {},
   "outputs": [],
   "source": [
    "data.incident_state.value_counts()\n",
    "# Que signifie -100 ?"
   ]
  },
  {
   "cell_type": "code",
   "execution_count": null,
   "metadata": {},
   "outputs": [],
   "source": [
    "pd.set_option('display.max_columns', 500)\n",
    "pd.set_option('display.width', 1000)\n",
    "data[data['number'] == 'INC0000102']"
   ]
  },
  {
   "cell_type": "code",
   "execution_count": null,
   "metadata": {},
   "outputs": [],
   "source": [
    "# Les colonnes suivantes seront lâchées :\n",
    "# \n",
    "data.contact_type.value_counts()"
   ]
  },
  {
   "cell_type": "markdown",
   "metadata": {},
   "source": [
    "### Nous allons convertir les colonnes de date en datetime (ce sont des objets à l'import) et calculer le temps avant résolution pour chaque ticket résolu"
   ]
  },
  {
   "cell_type": "code",
   "execution_count": 15,
   "metadata": {},
   "outputs": [],
   "source": [
    "# Fonction qui renvoie le nombre de secondes correspondant à un intervalle de datetime\n",
    "def get_seconds(timedelta):\n",
    "    return timedelta.total_seconds()\n",
    "\n",
    "# Fonction qui convertit les strings de date en datetime et ajoute une colonne\n",
    "# contenant la durée de vie, en secondes, d'un ticket avec résolution\n",
    "def compute_delta(df):   \n",
    "    df = df[df['resolved_at'] != '?']\n",
    "    df.resolved_at = pd.to_datetime(df['resolved_at'], format='%d/%m/%Y %H:%M')\n",
    "    df.opened_at = pd.to_datetime(df['opened_at'], format='%d/%m/%Y %H:%M')\n",
    "    df['delta'] = df.resolved_at - df.opened_at\n",
    "    df['delta'] = df['delta'].apply(get_seconds)\n",
    "    df.drop(['resolved_at', 'opened_at', 'closed_at'], axis='columns', inplace=True)\n",
    "    return df"
   ]
  },
  {
   "cell_type": "code",
   "execution_count": 16,
   "metadata": {},
   "outputs": [
    {
     "name": "stderr",
     "output_type": "stream",
     "text": [
      "C:\\Users\\jamaica\\Anaconda3\\lib\\site-packages\\pandas\\core\\generic.py:5096: SettingWithCopyWarning: \n",
      "A value is trying to be set on a copy of a slice from a DataFrame.\n",
      "Try using .loc[row_indexer,col_indexer] = value instead\n",
      "\n",
      "See the caveats in the documentation: http://pandas.pydata.org/pandas-docs/stable/indexing.html#indexing-view-versus-copy\n",
      "  self[name] = value\n",
      "C:\\Users\\jamaica\\Anaconda3\\lib\\site-packages\\ipykernel_launcher.py:11: SettingWithCopyWarning: \n",
      "A value is trying to be set on a copy of a slice from a DataFrame.\n",
      "Try using .loc[row_indexer,col_indexer] = value instead\n",
      "\n",
      "See the caveats in the documentation: http://pandas.pydata.org/pandas-docs/stable/indexing.html#indexing-view-versus-copy\n",
      "  # This is added back by InteractiveShellApp.init_path()\n",
      "C:\\Users\\jamaica\\Anaconda3\\lib\\site-packages\\ipykernel_launcher.py:12: SettingWithCopyWarning: \n",
      "A value is trying to be set on a copy of a slice from a DataFrame.\n",
      "Try using .loc[row_indexer,col_indexer] = value instead\n",
      "\n",
      "See the caveats in the documentation: http://pandas.pydata.org/pandas-docs/stable/indexing.html#indexing-view-versus-copy\n",
      "  if sys.path[0] == '':\n",
      "C:\\Users\\jamaica\\Anaconda3\\lib\\site-packages\\pandas\\core\\frame.py:3940: SettingWithCopyWarning: \n",
      "A value is trying to be set on a copy of a slice from a DataFrame\n",
      "\n",
      "See the caveats in the documentation: http://pandas.pydata.org/pandas-docs/stable/indexing.html#indexing-view-versus-copy\n",
      "  errors=errors)\n"
     ]
    }
   ],
   "source": [
    "m_set = data.copy(deep=False)\n",
    "m_set = compute_delta(m_set)"
   ]
  },
  {
   "cell_type": "markdown",
   "metadata": {},
   "source": [
    "### On transorme toutes les données non numériques en données numériques (sauf pour les booléens qui sont bien gérés par scikit-learn)"
   ]
  },
  {
   "cell_type": "code",
   "execution_count": 17,
   "metadata": {},
   "outputs": [],
   "source": [
    "# Fonction qui transforme la colonne priorité du dataframe afin de n'avoir que des valeurs numériques\n",
    "def priority_to_int(df):\n",
    "    df['priority'] = df['priority'].astype('category')\n",
    "    df['priority'] = df['priority'].cat.reorder_categories(['1 - Critical', '2 - High', '3 - Moderate', '4 - Low'], ordered=True)\n",
    "    df['priority'] = df['priority'].cat.codes\n",
    "    df.drop(['impact', 'urgency'], axis='columns', inplace=True)\n",
    "    return df"
   ]
  },
  {
   "cell_type": "code",
   "execution_count": 18,
   "metadata": {},
   "outputs": [],
   "source": [
    "m_set = priority_to_int(m_set)"
   ]
  },
  {
   "cell_type": "code",
   "execution_count": 19,
   "metadata": {},
   "outputs": [],
   "source": [
    "notify_dict = {\n",
    "    'Do Not Notify': 0,\n",
    "    'Send Email': 1\n",
    "}\n",
    "m_set['notify'] = m_set['notify'].map(notify_dict)"
   ]
  },
  {
   "cell_type": "code",
   "execution_count": null,
   "metadata": {},
   "outputs": [],
   "source": [
    "#m_set[m_set['vendor'] == '?'] # -> drop [NA: 141 468 / 141 712]\n",
    "#m_set[m_set['cmdb_ci'] == '?'] # -> drop [NA: 141 267 / 141 712]\n",
    "#m_set[m_set['problem_id'] == '?'] # -> drop [NA: 139 417 / 141 712]\n",
    "#m_set[m_set['rfc'] == '?'] # -> drop [NA: 140 721 / 141 712]\n",
    "#m_set[m_set['caused_by'] == '?'] # -> drop [NA: 141 689 / 141 712]\n",
    "#m_set[m_set['closed_code'] == '?']"
   ]
  },
  {
   "cell_type": "code",
   "execution_count": 20,
   "metadata": {},
   "outputs": [],
   "source": [
    "# On remarque que les colonnes sys_created_at et sys_created_by sont fortement liées. Si l'une est renseignée, alors l'autre le sera. \n",
    "# Il manque plus d'un tiers des valeurs et puisque nous cherchons à calculer le temps de résolution d'un ticket et non pas vraiment sa durée de vie, \n",
    "# l'information donnée par opened_at devrait être suffisante. Ces deux colonnes ne serviront pas pour la régression\n",
    "# Les colonnes sys_updated_[by/at] seront également drop\n",
    "m_set.drop(['vendor', 'cmdb_ci', 'problem_id', 'rfc', 'caused_by', 'sys_created_at', 'sys_created_by', 'sys_updated_at', 'sys_updated_by', 'opened_by'], axis='columns', inplace=True)"
   ]
  },
  {
   "cell_type": "code",
   "execution_count": null,
   "metadata": {},
   "outputs": [],
   "source": [
    "m_set.incident_state.value_counts()"
   ]
  },
  {
   "cell_type": "code",
   "execution_count": null,
   "metadata": {},
   "outputs": [],
   "source": [
    "# Tentative de développer une fonction permettant de calculer\n",
    "# la durée pendant laquelle un ticket était en attente.\n",
    "\n",
    "#def compute_awaiting_time(data):\n",
    "#ar = test.number.unique()\n",
    "#for e in ar:\n",
    "#    indices = test[test['number'] == e]\n",
    "#    awaiting = indices[indices['incident_state'] == 'Awaiting User Info']\n",
    "#    if not awaiting.empty:\n",
    "#        print(awaiting.iloc[0])\n",
    "#blabla = pd.DataFrame()"
   ]
  },
  {
   "cell_type": "code",
   "execution_count": 21,
   "metadata": {},
   "outputs": [],
   "source": [
    "m_set = m_set[m_set['incident_state'] == 'Closed']"
   ]
  },
  {
   "cell_type": "markdown",
   "metadata": {},
   "source": [
    "## Data Vizualisation"
   ]
  },
  {
   "cell_type": "code",
   "execution_count": 267,
   "metadata": {},
   "outputs": [
    {
     "data": {
      "text/plain": [
       "<matplotlib.axes._subplots.AxesSubplot at 0x18c4b219588>"
      ]
     },
     "execution_count": 267,
     "metadata": {},
     "output_type": "execute_result"
    },
    {
     "data": {
      "image/png": "[encoded data removed]",
      "text/plain": [
       "<Figure size 432x288 with 1 Axes>"
      ]
     },
     "metadata": {
      "needs_background": "light"
     },
     "output_type": "display_data"
    }
   ],
   "source": [
    "import matplotlib.pyplot as plt\n",
    "import seaborn\n",
    "\n",
    "m_set['delta'].plot()"
   ]
  },
  {
   "cell_type": "code",
   "execution_count": 243,
   "metadata": {},
   "outputs": [
    {
     "data": {
      "text/plain": [
       "<matplotlib.axes._subplots.AxesSubplot at 0x18c51523da0>"
      ]
     },
     "execution_count": 243,
     "metadata": {},
     "output_type": "execute_result"
    },
    {
     "data": {
      "image/png": "[encoded data removed]",
      "text/plain": [
       "<Figure size 432x288 with 1 Axes>"
      ]
     },
     "metadata": {
      "needs_background": "light"
     },
     "output_type": "display_data"
    }
   ],
   "source": [
    "m_set.groupby('contact_type')['number'].nunique().plot(kind='bar')"
   ]
  },
  {
   "cell_type": "code",
   "execution_count": 47,
   "metadata": {},
   "outputs": [
    {
     "data": {
      "text/plain": [
       "<matplotlib.axes._subplots.AxesSubplot at 0x22b97780668>"
      ]
     },
     "execution_count": 47,
     "metadata": {},
     "output_type": "execute_result"
    }
   ],
   "source": [
    "m_set.groupby('contact_type')['delta'].mean().plot(kind=\"bar\")\n",
    "# On voit que 99% des contacts ont été effectués par téléphone\n",
    "# Les tickets ayant la plus longue durée avant résolution sont ceux\n",
    "# pour lesquels le premier contact a été effectué au self-service\n",
    "# J'ai initialement pensé supprimer la colonne puisque ces données ne sont que très peu variables "
   ]
  },
  {
   "cell_type": "code",
   "execution_count": 48,
   "metadata": {},
   "outputs": [
    {
     "data": {
      "text/plain": [
       "<matplotlib.axes._subplots.AxesSubplot at 0x22b96d28d68>"
      ]
     },
     "execution_count": 48,
     "metadata": {},
     "output_type": "execute_result"
    },
    {
     "data": {
      "image/png": "[encoded data removed]",
      "text/plain": [
       "<Figure size 432x288 with 1 Axes>"
      ]
     },
     "metadata": {
      "needs_background": "light"
     },
     "output_type": "display_data"
    }
   ],
   "source": [
    "#m_set.groupby('category')['delta'].mean().plot(kind=\"bar\")\n",
    "#m_set.groupby('reassignment_count')['delta'].mean().plot(kind=\"bar\")\n",
    "m_set.groupby('knowledge')['delta'].mean().plot(kind=\"bar\")"
   ]
  },
  {
   "cell_type": "code",
   "execution_count": 50,
   "metadata": {},
   "outputs": [
    {
     "data": {
      "text/plain": [
       "<matplotlib.axes._subplots.AxesSubplot at 0x22b96a206d8>"
      ]
     },
     "execution_count": 50,
     "metadata": {},
     "output_type": "execute_result"
    },
    {
     "data": {
      "image/png": "[encoded data removed]",
      "text/plain": [
       "<Figure size 432x288 with 1 Axes>"
      ]
     },
     "metadata": {
      "needs_background": "light"
     },
     "output_type": "display_data"
    }
   ],
   "source": [
    "m_set.groupby('assigned_to')['delta'].mean().plot(kind=\"bar\")\n",
    "# m_set.groupby('notify')['delta'].mean().plot(kind=\"bar\")"
   ]
  },
  {
   "cell_type": "code",
   "execution_count": 244,
   "metadata": {},
   "outputs": [
    {
     "data": {
      "text/plain": [
       "<matplotlib.axes._subplots.AxesSubplot at 0x18c5112e9e8>"
      ]
     },
     "execution_count": 244,
     "metadata": {},
     "output_type": "execute_result"
    },
    {
     "data": {
      "image/png": "[encoded data removed]",
      "text/plain": [
       "<Figure size 720x576 with 2 Axes>"
      ]
     },
     "metadata": {
      "needs_background": "light"
     },
     "output_type": "display_data"
    }
   ],
   "source": [
    "import seaborn as sns\n",
    "\n",
    "f, ax = plt.subplots(figsize=(10, 8))\n",
    "corr = m_set.corr()\n",
    "sns.heatmap(corr, mask=np.zeros_like(corr, dtype=np.bool), cmap=sns.diverging_palette(220, 10, as_cmap=True),\n",
    "            square=True, ax=ax)"
   ]
  },
  {
   "cell_type": "code",
   "execution_count": null,
   "metadata": {},
   "outputs": [],
   "source": [
    "m_set.contact_type.value_counts()\n",
    "#m_set.drop(['contact_type'], axis='columns', inplace=True)"
   ]
  },
  {
   "cell_type": "markdown",
   "metadata": {},
   "source": [
    "## Modèles"
   ]
  },
  {
   "cell_type": "code",
   "execution_count": null,
   "metadata": {},
   "outputs": [],
   "source": [
    "m_set.info()"
   ]
  },
  {
   "cell_type": "code",
   "execution_count": 22,
   "metadata": {},
   "outputs": [],
   "source": [
    "# Nous allons encoder les données de type \"object\" (les strings) afin qu'elles puissent être gérées par la suite par les modèles\n",
    "#onehottest = pd.get_dummies(m_set, columns=['caller_id', 'location', 'category', 'u_symptom', 'assignment_group', 'assigned_to', 'closed_code', 'resolved_by'])\n",
    "from sklearn import preprocessing\n",
    "le = preprocessing.LabelEncoder()\n",
    "\n",
    "letest = m_set.copy(deep=False)\n",
    "letest['caller_id'] = le.fit_transform(letest['caller_id'])\n",
    "letest['location'] = le.fit_transform(letest['location'])\n",
    "letest['category'] = le.fit_transform(letest['category'])\n",
    "letest['u_symptom'] = le.fit_transform(letest['u_symptom'])\n",
    "letest['assignment_group'] = le.fit_transform(letest['assignment_group'])\n",
    "letest['assigned_to'] = le.fit_transform(letest['assigned_to'])\n",
    "letest['closed_code'] = le.fit_transform(letest['closed_code'])\n",
    "letest['resolved_by'] = le.fit_transform(letest['resolved_by'])\n",
    "letest = pd.get_dummies(letest, columns=['contact_type'])"
   ]
  },
  {
   "cell_type": "markdown",
   "metadata": {},
   "source": [
    "### Premier modèle : Régression linéaire"
   ]
  },
  {
   "cell_type": "code",
   "execution_count": 23,
   "metadata": {},
   "outputs": [],
   "source": [
    "from sklearn.model_selection import train_test_split\n",
    "from sklearn.model_selection import KFold\n",
    "from sklearn.linear_model import LinearRegression\n",
    "\n",
    "y = letest['delta']\n",
    "X = letest.drop(['delta', 'number', 'incident_state', 'subcategory'], axis=1)\n",
    "#X = m_set.drop(['delta', 'number', 'incident_state', 'assignment_group', 'assigned_to', 'caller_id', 'location', 'opened_by', 'category', 'subcategory', 'closed_code', 'resolved_by', 'u_symptom'], axis=1)\n",
    "X_train, X_test, y_train, y_test = train_test_split(X, y, test_size=0.33, random_state=42)"
   ]
  },
  {
   "cell_type": "code",
   "execution_count": 259,
   "metadata": {},
   "outputs": [
    {
     "data": {
      "text/plain": [
       "0.8635081059852676"
      ]
     },
     "execution_count": 259,
     "metadata": {},
     "output_type": "execute_result"
    }
   ],
   "source": [
    "model = LinearRegression()\n",
    "model.fit(X_train, y_train)\n",
    "score = model.score(X_test, y_test)\n",
    "score"
   ]
  },
  {
   "cell_type": "markdown",
   "metadata": {},
   "source": [
    "### Deuxième modèle : Random Forest Regressor"
   ]
  },
  {
   "cell_type": "code",
   "execution_count": 24,
   "metadata": {},
   "outputs": [
    {
     "name": "stderr",
     "output_type": "stream",
     "text": [
      "C:\\Users\\jamaica\\Anaconda3\\lib\\site-packages\\sklearn\\ensemble\\weight_boosting.py:29: DeprecationWarning: numpy.core.umath_tests is an internal NumPy module and should not be imported. It will be removed in a future NumPy release.\n",
      "  from numpy.core.umath_tests import inner1d\n"
     ]
    },
    {
     "data": {
      "text/plain": [
       "GridSearchCV(cv=5, error_score='raise',\n",
       "       estimator=RandomForestRegressor(bootstrap=True, criterion='mse', max_depth=None,\n",
       "           max_features='auto', max_leaf_nodes=None,\n",
       "           min_impurity_decrease=0.0, min_impurity_split=None,\n",
       "           min_samples_leaf=1, min_samples_split=2,\n",
       "           min_weight_fraction_leaf=0.0, n_estimators=10, n_jobs=1,\n",
       "           oob_score=False, random_state=None, verbose=0, warm_start=False),\n",
       "       fit_params=None, iid=True, n_jobs=-1,\n",
       "       param_grid={'n_estimators': [10, 20, 30], 'max_features': ['auto', 'sqrt', 'log2'], 'min_samples_split': [2, 4, 8], 'bootstrap': [True, False]},\n",
       "       pre_dispatch='2*n_jobs', refit=True, return_train_score='warn',\n",
       "       scoring=None, verbose=0)"
      ]
     },
     "execution_count": 24,
     "metadata": {},
     "output_type": "execute_result"
    }
   ],
   "source": [
    "from sklearn.model_selection import GridSearchCV\n",
    "from sklearn.ensemble import RandomForestRegressor\n",
    "\n",
    "rfr = RandomForestRegressor()\n",
    "params = { \n",
    "            \"n_estimators\"      : [10, 20, 30],\n",
    "            \"max_features\"      : [\"auto\", \"sqrt\", \"log2\"],\n",
    "            \"min_samples_split\" : [2, 4, 8],\n",
    "            \"bootstrap\": [True, False],\n",
    "         }\n",
    "\n",
    "model_2 = GridSearchCV(rfr, params, n_jobs = -1, cv = 5)\n",
    "model_2.fit(X_train, y_train)"
   ]
  },
  {
   "cell_type": "code",
   "execution_count": 26,
   "metadata": {},
   "outputs": [
    {
     "data": {
      "text/plain": [
       "0.9102886787138381"
      ]
     },
     "execution_count": 26,
     "metadata": {},
     "output_type": "execute_result"
    }
   ],
   "source": [
    "model_2.score(X_test, y_test)"
   ]
  },
  {
   "cell_type": "code",
   "execution_count": 33,
   "metadata": {},
   "outputs": [
    {
     "name": "stdout",
     "output_type": "stream",
     "text": [
      "[(0.879, 'sys_mod_count'), (0.0325, 'made_sla'), (0.0299, 'reassignment_count'), (0.0088, 'reopen_count'), (0.0086, 'u_priority_confirmation'), (0.0059, 'caller_id'), (0.0058, 'assigned_to'), (0.0052, 'assignment_group'), (0.0044, 'location'), (0.0041, 'resolved_by'), (0.0038, 'category'), (0.0037, 'closed_code'), (0.003, 'u_symptom'), (0.003, 'priority'), (0.0022, 'knowledge'), (0.0001, 'contact_type_Self service'), (0.0001, 'contact_type_Phone'), (0.0, 'notify'), (0.0, 'contact_type_Email'), (0.0, 'contact_type_Direct opening'), (0.0, 'active')]\n"
     ]
    }
   ],
   "source": [
    "model_2.best_estimator_.feature_importances_\n",
    "print(sorted(zip(map(lambda x: round(x, 4), model_2.best_estimator_.feature_importances_), X_test.columns), reverse=True))"
   ]
  },
  {
   "cell_type": "code",
   "execution_count": 45,
   "metadata": {},
   "outputs": [
    {
     "data": {
      "text/plain": [
       "GridSearchCV(cv=5, error_score='raise',\n",
       "       estimator=RandomForestRegressor(bootstrap=True, criterion='mse', max_depth=None,\n",
       "           max_features='auto', max_leaf_nodes=None,\n",
       "           min_impurity_decrease=0.0, min_impurity_split=None,\n",
       "           min_samples_leaf=1, min_samples_split=2,\n",
       "           min_weight_fraction_leaf=0.0, n_estimators=10, n_jobs=1,\n",
       "           oob_score=False, random_state=None, verbose=0, warm_start=False),\n",
       "       fit_params=None, iid=True, n_jobs=-1,\n",
       "       param_grid={'n_estimators': [10, 20, 30], 'max_features': ['auto', 'sqrt', 'log2'], 'min_samples_split': [2, 4, 8], 'bootstrap': [True, False]},\n",
       "       pre_dispatch='2*n_jobs', refit=True, return_train_score='warn',\n",
       "       scoring=None, verbose=0)"
      ]
     },
     "execution_count": 45,
     "metadata": {},
     "output_type": "execute_result"
    }
   ],
   "source": [
    "# On crée un nouveau modèle en utilisant uniquement les 3 variables les plus importantes\n",
    "# Simplifiera l'utilisation de l'API Django\n",
    "\n",
    "X_train_bis = X_train[['sys_mod_count', 'made_sla', 'reassignment_count']]\n",
    "model_bis = GridSearchCV(rfr, params, n_jobs = -1, cv = 5)\n",
    "model_bis.fit(X_train_bis, y_train)"
   ]
  },
  {
   "cell_type": "code",
   "execution_count": 46,
   "metadata": {},
   "outputs": [],
   "source": [
    "import os\n",
    "import pickle\n",
    "\n",
    "path = 'django_api/models/random_forest_regressor'\n",
    "with open(path, 'wb') as file:\n",
    "    pickle.dump(model_bis, file)"
   ]
  },
  {
   "cell_type": "markdown",
   "metadata": {},
   "source": [
    "### Troisième modèle : XGBoost"
   ]
  },
  {
   "cell_type": "code",
   "execution_count": null,
   "metadata": {},
   "outputs": [],
   "source": [
    "from xgboost import XGBClassifier\n",
    "from sklearn.model_selection import train_test_split\n",
    "from sklearn.metrics import accuracy_score\n",
    "\n",
    "model_3 = XGBClassifier()\n",
    "model_3.fit(X_train, y_train)\n",
    "\n",
    "predictions = model_3.predict(X_test)\n",
    "accuracy = accuracy_score(y_test, predictions)\n",
    "print(\"Accuracy: %.2f%%\" % (accuracy * 100.0))"
   ]
  }
 ],
 "metadata": {
  "kernelspec": {
   "display_name": "Python 3",
   "language": "python",
   "name": "python3"
  },
  "language_info": {
   "codemirror_mode": {
    "name": "ipython",
    "version": 3
   },
   "file_extension": ".py",
   "mimetype": "text/x-python",
   "name": "python",
   "nbconvert_exporter": "python",
   "pygments_lexer": "ipython3",
   "version": "3.7.3"
  }
 },
 "nbformat": 4,
 "nbformat_minor": 4
}
